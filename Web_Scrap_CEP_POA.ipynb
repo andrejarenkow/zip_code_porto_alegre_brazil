{
  "nbformat": 4,
  "nbformat_minor": 0,
  "metadata": {
    "colab": {
      "name": "Web Scrap CEP POA.ipynb",
      "provenance": [],
      "collapsed_sections": []
    },
    "kernelspec": {
      "name": "python3",
      "display_name": "Python 3"
    }
  },
  "cells": [
    {
      "cell_type": "markdown",
      "metadata": {
        "id": "Ni_mC9maYocK"
      },
      "source": [
        "### Importing libraries"
      ]
    },
    {
      "cell_type": "code",
      "metadata": {
        "id": "5CEruxt41ZoC"
      },
      "source": [
        "from bs4 import BeautifulSoup\n",
        "from urllib.request import urlopen\n",
        "import pandas as pd\n",
        "\n",
        "url = 'https://cep.guiamais.com.br/busca/porto+alegre-rs?page='"
      ],
      "execution_count": null,
      "outputs": []
    },
    {
      "cell_type": "markdown",
      "metadata": {
        "id": "cspvsEUght7g"
      },
      "source": [
        "# Webscrapping"
      ]
    },
    {
      "cell_type": "markdown",
      "metadata": {
        "id": "mLgkEY8NFGKc"
      },
      "source": [
        "## Block 1: 1-99"
      ]
    },
    {
      "cell_type": "code",
      "metadata": {
        "id": "IW38AG6rVeBQ"
      },
      "source": [
        "# Searching for \"table\" in the website\n",
        "table = soup('table')\n",
        "\n",
        "#creating a empty list\n",
        "lista_1 = []\n",
        "\n",
        "#looping in pages\n",
        "for i in range(1,100,1):\n",
        "  print(i) #log\n",
        "  pagina = i\n",
        "  response = urlopen(url+str(pagina))\n",
        "  html = response.read()\n",
        "  soup = BeautifulSoup(html, 'html.parser')\n",
        "\n",
        "  for j in range(1,len(table[0].find_all('tr')),1):\n",
        "    linha = table[0].find_all('tr')[j].get_text().split('\\n')\n",
        "    lista_1.append(linha)\n",
        "  \n",
        "  print(str(i)+ \" - finalizado!\") #log\n",
        "\n",
        "cep_poa_1 = pd.DataFrame(lista_1)\n",
        "len(cep_poa_1)"
      ],
      "execution_count": null,
      "outputs": []
    },
    {
      "cell_type": "markdown",
      "metadata": {
        "id": "DUekNlT_FK0m"
      },
      "source": [
        "## Block 2: 100-199"
      ]
    },
    {
      "cell_type": "code",
      "metadata": {
        "id": "xPUdwuMgi6pY"
      },
      "source": [
        "table = soup('table')\n",
        "lista_2 = []\n",
        "\n",
        "for i in range(100,200,1):\n",
        "  print(i)\n",
        "  pagina = i\n",
        "  response = urlopen(url+str(pagina))\n",
        "  html = response.read()\n",
        "  soup = BeautifulSoup(html, 'html.parser')\n",
        "\n",
        "  for j in range(1,len(table[0].find_all('tr')),1):\n",
        "    linha = table[0].find_all('tr')[j].get_text().split('\\n')\n",
        "    lista_2.append(linha)\n",
        "  \n",
        "  print(str(i)+ \" - finalizado!\")\n",
        "\n"
      ],
      "execution_count": null,
      "outputs": []
    },
    {
      "cell_type": "markdown",
      "metadata": {
        "id": "FhIVXn_0FOEd"
      },
      "source": [
        "## Block 3: 200-299"
      ]
    },
    {
      "cell_type": "code",
      "metadata": {
        "id": "t5WlkzYslKzt"
      },
      "source": [
        "table = soup('table')\n",
        "lista_3 = []\n",
        "\n",
        "for i in range(200,300,1):\n",
        "  print(i)\n",
        "  pagina = i\n",
        "  response = urlopen(url+str(pagina))\n",
        "  html = response.read()\n",
        "  soup = BeautifulSoup(html, 'html.parser')\n",
        "\n",
        "  for j in range(1,len(table[0].find_all('tr')),1):\n",
        "    linha = table[0].find_all('tr')[j].get_text().split('\\n')\n",
        "    lista_3.append(linha)\n",
        "  \n",
        "  print(str(i)+ \" - finalizado!\")"
      ],
      "execution_count": null,
      "outputs": []
    },
    {
      "cell_type": "markdown",
      "metadata": {
        "id": "x3Z_1XHzFQts"
      },
      "source": [
        "## Block 4: 300-392"
      ]
    },
    {
      "cell_type": "code",
      "metadata": {
        "id": "psfeXLCwlWIs"
      },
      "source": [
        "table = soup('table')\n",
        "lista_4 = []\n",
        "\n",
        "for i in range(300,393,1):\n",
        "  print(i)\n",
        "  pagina = i\n",
        "  response = urlopen(url+str(pagina))\n",
        "  html = response.read()\n",
        "  soup = BeautifulSoup(html, 'html.parser')\n",
        "\n",
        "  for j in range(1,len(table[0].find_all('tr')),1):\n",
        "    linha = table[0].find_all('tr')[j].get_text().split('\\n')\n",
        "    lista_4.append(linha)\n",
        "  \n",
        "  print(str(i)+ \" - finalizado!\")"
      ],
      "execution_count": null,
      "outputs": []
    },
    {
      "cell_type": "markdown",
      "metadata": {
        "id": "SYrvP0P7FT3a"
      },
      "source": [
        "# Joining all lists"
      ]
    },
    {
      "cell_type": "code",
      "metadata": {
        "colab": {
          "base_uri": "https://localhost:8080/"
        },
        "id": "XjddwNHppdti",
        "outputId": "2609c5a0-580f-4d8a-bfd1-821de9216333"
      },
      "source": [
        "lista_total = lista_1 + lista_2 + lista_3 + lista_4\n",
        "ceps_poa = pd.DataFrame(lista_total)\n",
        "len(ceps_poa)"
      ],
      "execution_count": 13,
      "outputs": [
        {
          "output_type": "execute_result",
          "data": {
            "text/plain": [
              "9800"
            ]
          },
          "metadata": {
            "tags": []
          },
          "execution_count": 13
        }
      ]
    },
    {
      "cell_type": "markdown",
      "metadata": {
        "id": "4F_FJIOrFYbw"
      },
      "source": [
        "# Transforming splitted data"
      ]
    },
    {
      "cell_type": "code",
      "metadata": {
        "id": "bLUdGpKbuOZo",
        "colab": {
          "base_uri": "https://localhost:8080/",
          "height": 419
        },
        "outputId": "4b95306e-1984-413c-df2b-1b63053bf105"
      },
      "source": [
        "cep = []\n",
        "\n",
        "for i,j in zip(ceps_poa[7], ceps_poa[8]):\n",
        "  if i[0]=='9':\n",
        "    cep.append(i)\n",
        "  elif j[0] =='9':\n",
        "    cep.append(j)\n",
        "\n",
        "ceps_poa['cep'] = cep\n",
        "\n",
        "bairro = []\n",
        "for i,j in zip(ceps_poa[4], ceps_poa[5]):\n",
        "  if i[-2:] =='' :\n",
        "    bairro.append(j)\n",
        "  elif j[-2:] =='RS':\n",
        "    bairro.append(i)\n",
        "\n",
        "ceps_poa['bairro'] = bairro\n",
        "ceps_poa"
      ],
      "execution_count": 38,
      "outputs": [
        {
          "output_type": "execute_result",
          "data": {
            "text/html": [
              "<div>\n",
              "<style scoped>\n",
              "    .dataframe tbody tr th:only-of-type {\n",
              "        vertical-align: middle;\n",
              "    }\n",
              "\n",
              "    .dataframe tbody tr th {\n",
              "        vertical-align: top;\n",
              "    }\n",
              "\n",
              "    .dataframe thead th {\n",
              "        text-align: right;\n",
              "    }\n",
              "</style>\n",
              "<table border=\"1\" class=\"dataframe\">\n",
              "  <thead>\n",
              "    <tr style=\"text-align: right;\">\n",
              "      <th></th>\n",
              "      <th>0</th>\n",
              "      <th>1</th>\n",
              "      <th>2</th>\n",
              "      <th>3</th>\n",
              "      <th>4</th>\n",
              "      <th>5</th>\n",
              "      <th>6</th>\n",
              "      <th>7</th>\n",
              "      <th>8</th>\n",
              "      <th>9</th>\n",
              "      <th>cep</th>\n",
              "      <th>bairro</th>\n",
              "    </tr>\n",
              "  </thead>\n",
              "  <tbody>\n",
              "    <tr>\n",
              "      <th>0</th>\n",
              "      <td></td>\n",
              "      <td></td>\n",
              "      <td>Beco Dois</td>\n",
              "      <td>(Est João A Silveira)</td>\n",
              "      <td></td>\n",
              "      <td>Restinga</td>\n",
              "      <td>Porto Alegre, RS</td>\n",
              "      <td>Restinga, Porto Alegre, RS</td>\n",
              "      <td>91790-401</td>\n",
              "      <td></td>\n",
              "      <td>91790-401</td>\n",
              "      <td>Restinga</td>\n",
              "    </tr>\n",
              "    <tr>\n",
              "      <th>1</th>\n",
              "      <td></td>\n",
              "      <td></td>\n",
              "      <td>Beco Dois</td>\n",
              "      <td>(Lami)</td>\n",
              "      <td></td>\n",
              "      <td>Lami</td>\n",
              "      <td>Porto Alegre, RS</td>\n",
              "      <td>Lami, Porto Alegre, RS</td>\n",
              "      <td>91787-631</td>\n",
              "      <td></td>\n",
              "      <td>91787-631</td>\n",
              "      <td>Lami</td>\n",
              "    </tr>\n",
              "    <tr>\n",
              "      <th>2</th>\n",
              "      <td></td>\n",
              "      <td></td>\n",
              "      <td>Beco Dois</td>\n",
              "      <td>(da Rua Aldrovando Leão)</td>\n",
              "      <td></td>\n",
              "      <td>Vila Jardim</td>\n",
              "      <td>Porto Alegre, RS</td>\n",
              "      <td>Vila Jardim, Porto Alegre, RS</td>\n",
              "      <td>91320-360</td>\n",
              "      <td></td>\n",
              "      <td>91320-360</td>\n",
              "      <td>Vila Jardim</td>\n",
              "    </tr>\n",
              "    <tr>\n",
              "      <th>3</th>\n",
              "      <td></td>\n",
              "      <td></td>\n",
              "      <td>Beco Dois</td>\n",
              "      <td>(da Rua José Madrid)</td>\n",
              "      <td></td>\n",
              "      <td>Jardim Carvalho</td>\n",
              "      <td>Porto Alegre, RS</td>\n",
              "      <td>Jardim Carvalho, Porto Alegre, RS</td>\n",
              "      <td>91430-560</td>\n",
              "      <td></td>\n",
              "      <td>91430-560</td>\n",
              "      <td>Jardim Carvalho</td>\n",
              "    </tr>\n",
              "    <tr>\n",
              "      <th>4</th>\n",
              "      <td></td>\n",
              "      <td></td>\n",
              "      <td>Beco Dois</td>\n",
              "      <td>(da Rua Ana Terra)</td>\n",
              "      <td></td>\n",
              "      <td>Lomba do Pinheiro</td>\n",
              "      <td>Porto Alegre, RS</td>\n",
              "      <td>Lomba do Pinheiro, Porto Alegre, RS</td>\n",
              "      <td>91570-261</td>\n",
              "      <td></td>\n",
              "      <td>91570-261</td>\n",
              "      <td>Lomba do Pinheiro</td>\n",
              "    </tr>\n",
              "    <tr>\n",
              "      <th>...</th>\n",
              "      <td>...</td>\n",
              "      <td>...</td>\n",
              "      <td>...</td>\n",
              "      <td>...</td>\n",
              "      <td>...</td>\n",
              "      <td>...</td>\n",
              "      <td>...</td>\n",
              "      <td>...</td>\n",
              "      <td>...</td>\n",
              "      <td>...</td>\n",
              "      <td>...</td>\n",
              "      <td>...</td>\n",
              "    </tr>\n",
              "    <tr>\n",
              "      <th>9795</th>\n",
              "      <td></td>\n",
              "      <td></td>\n",
              "      <td>Rua Ronaldo Molina de Quadros</td>\n",
              "      <td></td>\n",
              "      <td>Mário Quintana</td>\n",
              "      <td>Porto Alegre, RS</td>\n",
              "      <td>Mário Quintana, Porto Alegre, RS</td>\n",
              "      <td>91280-223</td>\n",
              "      <td></td>\n",
              "      <td>None</td>\n",
              "      <td>91280-223</td>\n",
              "      <td>Mário Quintana</td>\n",
              "    </tr>\n",
              "    <tr>\n",
              "      <th>9796</th>\n",
              "      <td></td>\n",
              "      <td></td>\n",
              "      <td>Rua Rondônia</td>\n",
              "      <td></td>\n",
              "      <td>Restinga</td>\n",
              "      <td>Porto Alegre, RS</td>\n",
              "      <td>Restinga, Porto Alegre, RS</td>\n",
              "      <td>91790-470</td>\n",
              "      <td></td>\n",
              "      <td>None</td>\n",
              "      <td>91790-470</td>\n",
              "      <td>Restinga</td>\n",
              "    </tr>\n",
              "    <tr>\n",
              "      <th>9797</th>\n",
              "      <td></td>\n",
              "      <td></td>\n",
              "      <td>Rua Roque Calage</td>\n",
              "      <td></td>\n",
              "      <td>Passo da Areia</td>\n",
              "      <td>Porto Alegre, RS</td>\n",
              "      <td>Passo da Areia, Porto Alegre, RS</td>\n",
              "      <td>91350-090</td>\n",
              "      <td></td>\n",
              "      <td>None</td>\n",
              "      <td>91350-090</td>\n",
              "      <td>Passo da Areia</td>\n",
              "    </tr>\n",
              "    <tr>\n",
              "      <th>9798</th>\n",
              "      <td></td>\n",
              "      <td></td>\n",
              "      <td>Rua Roque Gonzales</td>\n",
              "      <td></td>\n",
              "      <td>Jardim Botânico</td>\n",
              "      <td>Porto Alegre, RS</td>\n",
              "      <td>Jardim Botânico, Porto Alegre, RS</td>\n",
              "      <td>90690-270</td>\n",
              "      <td></td>\n",
              "      <td>None</td>\n",
              "      <td>90690-270</td>\n",
              "      <td>Jardim Botânico</td>\n",
              "    </tr>\n",
              "    <tr>\n",
              "      <th>9799</th>\n",
              "      <td></td>\n",
              "      <td></td>\n",
              "      <td>Rua Roque José dos Santos</td>\n",
              "      <td></td>\n",
              "      <td>Belém Velho</td>\n",
              "      <td>Porto Alegre, RS</td>\n",
              "      <td>Belém Velho, Porto Alegre, RS</td>\n",
              "      <td>91787-365</td>\n",
              "      <td></td>\n",
              "      <td>None</td>\n",
              "      <td>91787-365</td>\n",
              "      <td>Belém Velho</td>\n",
              "    </tr>\n",
              "  </tbody>\n",
              "</table>\n",
              "<p>9800 rows × 12 columns</p>\n",
              "</div>"
            ],
            "text/plain": [
              "     0  1                               2  ...     9        cep             bairro\n",
              "0                               Beco Dois  ...        91790-401           Restinga\n",
              "1                               Beco Dois  ...        91787-631               Lami\n",
              "2                               Beco Dois  ...        91320-360        Vila Jardim\n",
              "3                               Beco Dois  ...        91430-560    Jardim Carvalho\n",
              "4                               Beco Dois  ...        91570-261  Lomba do Pinheiro\n",
              "...  .. ..                            ...  ...   ...        ...                ...\n",
              "9795        Rua Ronaldo Molina de Quadros  ...  None  91280-223     Mário Quintana\n",
              "9796                         Rua Rondônia  ...  None  91790-470           Restinga\n",
              "9797                     Rua Roque Calage  ...  None  91350-090     Passo da Areia\n",
              "9798                   Rua Roque Gonzales  ...  None  90690-270    Jardim Botânico\n",
              "9799            Rua Roque José dos Santos  ...  None  91787-365        Belém Velho\n",
              "\n",
              "[9800 rows x 12 columns]"
            ]
          },
          "metadata": {
            "tags": []
          },
          "execution_count": 38
        }
      ]
    },
    {
      "cell_type": "code",
      "metadata": {
        "id": "PhzPZMnD3rhn"
      },
      "source": [
        "ceps_poa_condensado = ceps_poa[['cep','bairro']]"
      ],
      "execution_count": 41,
      "outputs": []
    },
    {
      "cell_type": "markdown",
      "metadata": {
        "id": "nFBSbFC5FeCD"
      },
      "source": [
        "# Exporting to .csv"
      ]
    },
    {
      "cell_type": "code",
      "metadata": {
        "id": "aKCvOROi5OEt"
      },
      "source": [
        "ceps_poa_condensado.to_csv('cep_poa.csv', sep=';')"
      ],
      "execution_count": 43,
      "outputs": []
    },
    {
      "cell_type": "code",
      "metadata": {
        "id": "IVpQvAp887bv"
      },
      "source": [
        ""
      ],
      "execution_count": null,
      "outputs": []
    }
  ]
}